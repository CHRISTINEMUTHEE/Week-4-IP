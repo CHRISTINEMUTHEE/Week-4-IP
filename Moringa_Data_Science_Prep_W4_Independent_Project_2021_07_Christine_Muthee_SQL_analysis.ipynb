{
  "nbformat": 4,
  "nbformat_minor": 0,
  "metadata": {
    "colab": {
      "name": "Moringa_Data_Science_Prep_W4_Independent_Project_2021_07_Christine_Muthee_SQL analysis.ipynb",
      "provenance": [],
      "collapsed_sections": [],
      "authorship_tag": "ABX9TyOsjKTLFlfN2eXCPBEoVfBv",
      "include_colab_link": true
    },
    "kernelspec": {
      "name": "python3",
      "display_name": "Python 3"
    },
    "language_info": {
      "name": "python"
    }
  },
  "cells": [
    {
      "cell_type": "markdown",
      "metadata": {
        "id": "view-in-github",
        "colab_type": "text"
      },
      "source": [
        "<a href=\"https://colab.research.google.com/github/CHRISTINEMUTHEE/Week-4-IP/blob/main/Moringa_Data_Science_Prep_W4_Independent_Project_2021_07_Christine_Muthee_SQL_analysis.ipynb\" target=\"_parent\"><img src=\"https://colab.research.google.com/assets/colab-badge.svg\" alt=\"Open In Colab\"/></a>"
      ]
    },
    {
      "cell_type": "markdown",
      "metadata": {
        "id": "h-9kGum_WuVS"
      },
      "source": [
        "\n",
        "SQL Data Analysis: Autolib car sharing service.\n",
        "I have used SQL used mainly for querying the clean data set."
      ]
    },
    {
      "cell_type": "markdown",
      "metadata": {
        "id": "8kexJfiiXXWe"
      },
      "source": [
        "1.0 Connecting to our Database"
      ]
    },
    {
      "cell_type": "code",
      "metadata": {
        "colab": {
          "base_uri": "https://localhost:8080/",
          "height": 35
        },
        "id": "k9a2SKFJXaaz",
        "outputId": "4129fbfe-c13b-485b-a236-e4bec7a4f35b"
      },
      "source": [
        "# Loading the sql extension into thid environment\n",
        "#\n",
        "%load_ext sql\n",
        "\n",
        "# Then connect to our in memory sqlite database\n",
        "# NB: This database will cease to exist as soon as the database connection is closed. \n",
        "#\n",
        "%sql sqlite://"
      ],
      "execution_count": null,
      "outputs": [
        {
          "output_type": "execute_result",
          "data": {
            "application/vnd.google.colaboratory.intrinsic+json": {
              "type": "string"
            },
            "text/plain": [
              "'Connected: @None'"
            ]
          },
          "metadata": {
            "tags": []
          },
          "execution_count": 2
        }
      ]
    },
    {
      "cell_type": "markdown",
      "metadata": {
        "id": "4HZeGLthXjQN"
      },
      "source": [
        "1.1 Importing Data from the clean CSV file."
      ]
    },
    {
      "cell_type": "code",
      "metadata": {
        "id": "8ih-i_CPXscL"
      },
      "source": [
        "# Importing the pandas library\n",
        "# We will use a function read_csv from pandas to read our datasets as shown\n",
        "#\n",
        "import pandas as pd \n"
      ],
      "execution_count": null,
      "outputs": []
    },
    {
      "cell_type": "code",
      "metadata": {
        "colab": {
          "base_uri": "https://localhost:8080/",
          "height": 471
        },
        "id": "TqzToGaaXyIz",
        "outputId": "a1c72d9e-c079-496d-8534-79a99dcb4fd6"
      },
      "source": [
        "# Loading our table from the respective CSV files\n",
        "# We will export the Households dataset that we have cleaned using python\n",
        "#\n",
        "with open('Clean_Autolib.csv','r') as f:\n",
        "    Clean_Autolib = pd.read_csv(f, index_col=0, encoding='utf-8')\n",
        "%sql DROP TABLE if EXISTS Clean_Autolib;\n",
        "%sql PERSIST Clean_Autolib;\n",
        "%sql SELECT * FROM Clean_Autolib LIMIT 5;"
      ],
      "execution_count": null,
      "outputs": [
        {
          "output_type": "stream",
          "text": [
            " * sqlite://\n",
            "Done.\n",
            " * sqlite://\n",
            " * sqlite://\n",
            "Done.\n"
          ],
          "name": "stdout"
        },
        {
          "output_type": "execute_result",
          "data": {
            "text/html": [
              "<table>\n",
              "    <thead>\n",
              "        <tr>\n",
              "            <th>address</th>\n",
              "            <th>cars</th>\n",
              "            <th>bluecar counter</th>\n",
              "            <th>utilib_counter</th>\n",
              "            <th>utilib_counter.1</th>\n",
              "            <th>charge_slots</th>\n",
              "            <th>charging status</th>\n",
              "            <th>city</th>\n",
              "            <th>kind</th>\n",
              "            <th>postal_code</th>\n",
              "            <th>rental_status</th>\n",
              "            <th>slots</th>\n",
              "            <th>station_type</th>\n",
              "            <th>status</th>\n",
              "            <th>subscription_status</th>\n",
              "            <th>year</th>\n",
              "            <th>month</th>\n",
              "            <th>day</th>\n",
              "            <th>hour</th>\n",
              "            <th>minute</th>\n",
              "            <th>timestamp</th>\n",
              "            <th>Total_cars</th>\n",
              "        </tr>\n",
              "    </thead>\n",
              "    <tbody>\n",
              "        <tr>\n",
              "            <td>2 Avenue de Suffren</td>\n",
              "            <td>0</td>\n",
              "            <td>0</td>\n",
              "            <td>0</td>\n",
              "            <td>0</td>\n",
              "            <td>0</td>\n",
              "            <td>nonexistent</td>\n",
              "            <td>Paris</td>\n",
              "            <td>STATION</td>\n",
              "            <td>75015</td>\n",
              "            <td>operational</td>\n",
              "            <td>2</td>\n",
              "            <td>station</td>\n",
              "            <td>ok</td>\n",
              "            <td>nonexistent</td>\n",
              "            <td>2018</td>\n",
              "            <td>4</td>\n",
              "            <td>8</td>\n",
              "            <td>11</td>\n",
              "            <td>43</td>\n",
              "            <td>2018-04-08 11:43:00</td>\n",
              "            <td>0</td>\n",
              "        </tr>\n",
              "        <tr>\n",
              "            <td>145 Rue Raymond Losserand</td>\n",
              "            <td>6</td>\n",
              "            <td>6</td>\n",
              "            <td>0</td>\n",
              "            <td>0</td>\n",
              "            <td>0</td>\n",
              "            <td>operational</td>\n",
              "            <td>Paris</td>\n",
              "            <td>STATION</td>\n",
              "            <td>75014</td>\n",
              "            <td>operational</td>\n",
              "            <td>0</td>\n",
              "            <td>station</td>\n",
              "            <td>ok</td>\n",
              "            <td>nonexistent</td>\n",
              "            <td>2018</td>\n",
              "            <td>4</td>\n",
              "            <td>6</td>\n",
              "            <td>7</td>\n",
              "            <td>24</td>\n",
              "            <td>2018-04-06 07:24:00</td>\n",
              "            <td>6</td>\n",
              "        </tr>\n",
              "        <tr>\n",
              "            <td>2 Avenue John Fitzgerald Kennedy</td>\n",
              "            <td>3</td>\n",
              "            <td>3</td>\n",
              "            <td>0</td>\n",
              "            <td>2</td>\n",
              "            <td>0</td>\n",
              "            <td>operational</td>\n",
              "            <td>Le Bourget</td>\n",
              "            <td>STATION</td>\n",
              "            <td>93350</td>\n",
              "            <td>operational</td>\n",
              "            <td>1</td>\n",
              "            <td>station</td>\n",
              "            <td>ok</td>\n",
              "            <td>nonexistent</td>\n",
              "            <td>2018</td>\n",
              "            <td>4</td>\n",
              "            <td>3</td>\n",
              "            <td>20</td>\n",
              "            <td>14</td>\n",
              "            <td>2018-04-03 20:14:00</td>\n",
              "            <td>5</td>\n",
              "        </tr>\n",
              "        <tr>\n",
              "            <td>51 Rue EugÃ¨ne OudinÃ©</td>\n",
              "            <td>3</td>\n",
              "            <td>3</td>\n",
              "            <td>1</td>\n",
              "            <td>0</td>\n",
              "            <td>1</td>\n",
              "            <td>operational</td>\n",
              "            <td>Paris</td>\n",
              "            <td>STATION</td>\n",
              "            <td>75013</td>\n",
              "            <td>operational</td>\n",
              "            <td>2</td>\n",
              "            <td>station</td>\n",
              "            <td>ok</td>\n",
              "            <td>nonexistent</td>\n",
              "            <td>2018</td>\n",
              "            <td>4</td>\n",
              "            <td>4</td>\n",
              "            <td>4</td>\n",
              "            <td>37</td>\n",
              "            <td>2018-04-04 04:37:00</td>\n",
              "            <td>4</td>\n",
              "        </tr>\n",
              "        <tr>\n",
              "            <td>6 avenue de la Porte de Champerret</td>\n",
              "            <td>3</td>\n",
              "            <td>3</td>\n",
              "            <td>0</td>\n",
              "            <td>0</td>\n",
              "            <td>0</td>\n",
              "            <td>nonexistent</td>\n",
              "            <td>Paris</td>\n",
              "            <td>PARKING</td>\n",
              "            <td>75017</td>\n",
              "            <td>operational</td>\n",
              "            <td>3</td>\n",
              "            <td>station</td>\n",
              "            <td>ok</td>\n",
              "            <td>nonexistent</td>\n",
              "            <td>2018</td>\n",
              "            <td>4</td>\n",
              "            <td>8</td>\n",
              "            <td>17</td>\n",
              "            <td>23</td>\n",
              "            <td>2018-04-08 17:23:00</td>\n",
              "            <td>3</td>\n",
              "        </tr>\n",
              "    </tbody>\n",
              "</table>"
            ],
            "text/plain": [
              "[('2 Avenue de Suffren', 0, 0, 0, 0, 0, 'nonexistent', 'Paris', 'STATION', 75015, 'operational', 2, 'station', 'ok', 'nonexistent', 2018, 4, 8, 11, 43, '2018-04-08 11:43:00', 0),\n",
              " ('145 Rue Raymond Losserand', 6, 6, 0, 0, 0, 'operational', 'Paris', 'STATION', 75014, 'operational', 0, 'station', 'ok', 'nonexistent', 2018, 4, 6, 7, 24, '2018-04-06 07:24:00', 6),\n",
              " ('2 Avenue John Fitzgerald Kennedy', 3, 3, 0, 2, 0, 'operational', 'Le Bourget', 'STATION', 93350, 'operational', 1, 'station', 'ok', 'nonexistent', 2018, 4, 3, 20, 14, '2018-04-03 20:14:00', 5),\n",
              " ('51 Rue EugÃ¨ne OudinÃ©', 3, 3, 1, 0, 1, 'operational', 'Paris', 'STATION', 75013, 'operational', 2, 'station', 'ok', 'nonexistent', 2018, 4, 4, 4, 37, '2018-04-04 04:37:00', 4),\n",
              " ('6 avenue de la Porte de Champerret', 3, 3, 0, 0, 0, 'nonexistent', 'Paris', 'PARKING', 75017, 'operational', 3, 'station', 'ok', 'nonexistent', 2018, 4, 8, 17, 23, '2018-04-08 17:23:00', 3)]"
            ]
          },
          "metadata": {
            "tags": []
          },
          "execution_count": 5
        }
      ]
    },
    {
      "cell_type": "code",
      "metadata": {
        "id": "J23GCx7bvTpm"
      },
      "source": [
        "Clean_Autolib.info()"
      ],
      "execution_count": null,
      "outputs": []
    },
    {
      "cell_type": "markdown",
      "metadata": {
        "id": "o4-RkCVaYbCL"
      },
      "source": [
        "1.2 Previewing our Dataset"
      ]
    },
    {
      "cell_type": "code",
      "metadata": {
        "id": "qbzUdSYlYdGJ"
      },
      "source": [
        "%%sql\n",
        "SELECT * FROM Clean_Autolib LIMIT 5"
      ],
      "execution_count": null,
      "outputs": []
    },
    {
      "cell_type": "markdown",
      "metadata": {
        "id": "1xTFNcLTYukG"
      },
      "source": [
        "1.3 Accessing Information about our Dataset."
      ]
    },
    {
      "cell_type": "code",
      "metadata": {
        "id": "yu7McCjfYwBm"
      },
      "source": [
        "%%sql\n",
        "PRAGMA table_info(Clean_Autolib)"
      ],
      "execution_count": null,
      "outputs": []
    },
    {
      "cell_type": "markdown",
      "metadata": {
        "id": "8awkdjJXaVqM"
      },
      "source": [
        "2.0 Data Analysis\n",
        "\n",
        "*   Here we will anwer the questions passed in the objectives\n",
        "\n"
      ]
    },
    {
      "cell_type": "code",
      "metadata": {
        "id": "oXEBPc4karJX",
        "colab": {
          "base_uri": "https://localhost:8080/",
          "height": 179
        },
        "outputId": "641bf87c-c4b0-46c0-fc68-e79b04de59ff"
      },
      "source": [
        "#Counterchecking timestamp infor.\n",
        "%%sql\n",
        "SELECT timestamp FROM Clean_Autolib LIMIT 5"
      ],
      "execution_count": null,
      "outputs": [
        {
          "output_type": "stream",
          "text": [
            " * sqlite://\n",
            "Done.\n"
          ],
          "name": "stdout"
        },
        {
          "output_type": "execute_result",
          "data": {
            "text/html": [
              "<table>\n",
              "    <thead>\n",
              "        <tr>\n",
              "            <th>timestamp</th>\n",
              "        </tr>\n",
              "    </thead>\n",
              "    <tbody>\n",
              "        <tr>\n",
              "            <td>2018-04-08 11:43:00</td>\n",
              "        </tr>\n",
              "        <tr>\n",
              "            <td>2018-04-06 07:24:00</td>\n",
              "        </tr>\n",
              "        <tr>\n",
              "            <td>2018-04-03 20:14:00</td>\n",
              "        </tr>\n",
              "        <tr>\n",
              "            <td>2018-04-04 04:37:00</td>\n",
              "        </tr>\n",
              "        <tr>\n",
              "            <td>2018-04-08 17:23:00</td>\n",
              "        </tr>\n",
              "    </tbody>\n",
              "</table>"
            ],
            "text/plain": [
              "[('2018-04-08 11:43:00',),\n",
              " ('2018-04-06 07:24:00',),\n",
              " ('2018-04-03 20:14:00',),\n",
              " ('2018-04-04 04:37:00',),\n",
              " ('2018-04-08 17:23:00',)]"
            ]
          },
          "metadata": {
            "tags": []
          },
          "execution_count": 106
        }
      ]
    },
    {
      "cell_type": "code",
      "metadata": {
        "colab": {
          "base_uri": "https://localhost:8080/",
          "height": 158
        },
        "id": "YHfRI0czP4pK",
        "outputId": "2bf7fe34-115e-4131-9c16-3c093d444229"
      },
      "source": [
        "%%sql\n",
        "SELECT month FROM Clean_Autolib LIMIT 4"
      ],
      "execution_count": null,
      "outputs": [
        {
          "output_type": "stream",
          "text": [
            " * sqlite://\n",
            "Done.\n"
          ],
          "name": "stdout"
        },
        {
          "output_type": "execute_result",
          "data": {
            "text/html": [
              "<table>\n",
              "    <thead>\n",
              "        <tr>\n",
              "            <th>month</th>\n",
              "        </tr>\n",
              "    </thead>\n",
              "    <tbody>\n",
              "        <tr>\n",
              "            <td>4</td>\n",
              "        </tr>\n",
              "        <tr>\n",
              "            <td>4</td>\n",
              "        </tr>\n",
              "        <tr>\n",
              "            <td>4</td>\n",
              "        </tr>\n",
              "        <tr>\n",
              "            <td>4</td>\n",
              "        </tr>\n",
              "    </tbody>\n",
              "</table>"
            ],
            "text/plain": [
              "[(4,), (4,), (4,), (4,)]"
            ]
          },
          "metadata": {
            "tags": []
          },
          "execution_count": 162
        }
      ]
    },
    {
      "cell_type": "code",
      "metadata": {
        "colab": {
          "base_uri": "https://localhost:8080/",
          "height": 95
        },
        "id": "y-HtO1tPaLot",
        "outputId": "4da3363d-a8fe-4c15-ad92-265c8c864d4a"
      },
      "source": [
        "#Q1: Indentify the most popular hour of the day for picking up a shared electric car(Blue car) \n",
        "#in the city of paris over the month of April 2018.\n",
        "#The most popular hour is when the cars available are minimum in the city of paris since all of them are already picked up.\n",
        "#POINT TO NOTE:cars are redundant with the blue car counter\n",
        "%%sql\n",
        "SELECT timestamp FROM Clean_Autolib WHERE city='Paris' AND month=4 ORDER BY cars LIMIT 1\n"
      ],
      "execution_count": null,
      "outputs": [
        {
          "output_type": "stream",
          "text": [
            " * sqlite://\n",
            "Done.\n"
          ],
          "name": "stdout"
        },
        {
          "output_type": "execute_result",
          "data": {
            "text/html": [
              "<table>\n",
              "    <thead>\n",
              "        <tr>\n",
              "            <th>timestamp</th>\n",
              "        </tr>\n",
              "    </thead>\n",
              "    <tbody>\n",
              "        <tr>\n",
              "            <td>2018-04-08 11:43:00</td>\n",
              "        </tr>\n",
              "    </tbody>\n",
              "</table>"
            ],
            "text/plain": [
              "[('2018-04-08 11:43:00',)]"
            ]
          },
          "metadata": {
            "tags": []
          },
          "execution_count": 166
        }
      ]
    },
    {
      "cell_type": "code",
      "metadata": {
        "id": "JK4DS3JGjmsk",
        "colab": {
          "base_uri": "https://localhost:8080/",
          "height": 221
        },
        "outputId": "e15a6e39-f8b4-4911-c837-212d81632bc2"
      },
      "source": [
        "%%sql\n",
        "SELECT * FROM Clean_Autolib LIMIT 2"
      ],
      "execution_count": null,
      "outputs": [
        {
          "output_type": "stream",
          "text": [
            " * sqlite://\n",
            "Done.\n"
          ],
          "name": "stdout"
        },
        {
          "output_type": "execute_result",
          "data": {
            "text/html": [
              "<table>\n",
              "    <thead>\n",
              "        <tr>\n",
              "            <th>address</th>\n",
              "            <th>cars</th>\n",
              "            <th>bluecar counter</th>\n",
              "            <th>utilib_counter</th>\n",
              "            <th>utilib_counter.1</th>\n",
              "            <th>charge_slots</th>\n",
              "            <th>charging status</th>\n",
              "            <th>city</th>\n",
              "            <th>kind</th>\n",
              "            <th>postal_code</th>\n",
              "            <th>rental_status</th>\n",
              "            <th>slots</th>\n",
              "            <th>station_type</th>\n",
              "            <th>status</th>\n",
              "            <th>subscription_status</th>\n",
              "            <th>year</th>\n",
              "            <th>month</th>\n",
              "            <th>day</th>\n",
              "            <th>hour</th>\n",
              "            <th>minute</th>\n",
              "            <th>timestamp</th>\n",
              "            <th>Total_cars</th>\n",
              "        </tr>\n",
              "    </thead>\n",
              "    <tbody>\n",
              "        <tr>\n",
              "            <td>2 Avenue de Suffren</td>\n",
              "            <td>0</td>\n",
              "            <td>0</td>\n",
              "            <td>0</td>\n",
              "            <td>0</td>\n",
              "            <td>0</td>\n",
              "            <td>nonexistent</td>\n",
              "            <td>Paris</td>\n",
              "            <td>STATION</td>\n",
              "            <td>75015</td>\n",
              "            <td>operational</td>\n",
              "            <td>2</td>\n",
              "            <td>station</td>\n",
              "            <td>ok</td>\n",
              "            <td>nonexistent</td>\n",
              "            <td>2018</td>\n",
              "            <td>4</td>\n",
              "            <td>8</td>\n",
              "            <td>11</td>\n",
              "            <td>43</td>\n",
              "            <td>2018-04-08 11:43:00</td>\n",
              "            <td>0</td>\n",
              "        </tr>\n",
              "        <tr>\n",
              "            <td>145 Rue Raymond Losserand</td>\n",
              "            <td>6</td>\n",
              "            <td>6</td>\n",
              "            <td>0</td>\n",
              "            <td>0</td>\n",
              "            <td>0</td>\n",
              "            <td>operational</td>\n",
              "            <td>Paris</td>\n",
              "            <td>STATION</td>\n",
              "            <td>75014</td>\n",
              "            <td>operational</td>\n",
              "            <td>0</td>\n",
              "            <td>station</td>\n",
              "            <td>ok</td>\n",
              "            <td>nonexistent</td>\n",
              "            <td>2018</td>\n",
              "            <td>4</td>\n",
              "            <td>6</td>\n",
              "            <td>7</td>\n",
              "            <td>24</td>\n",
              "            <td>2018-04-06 07:24:00</td>\n",
              "            <td>6</td>\n",
              "        </tr>\n",
              "    </tbody>\n",
              "</table>"
            ],
            "text/plain": [
              "[('2 Avenue de Suffren', 0, 0, 0, 0, 0, 'nonexistent', 'Paris', 'STATION', 75015, 'operational', 2, 'station', 'ok', 'nonexistent', 2018, 4, 8, 11, 43, '2018-04-08 11:43:00', 0),\n",
              " ('145 Rue Raymond Losserand', 6, 6, 0, 0, 0, 'operational', 'Paris', 'STATION', 75014, 'operational', 0, 'station', 'ok', 'nonexistent', 2018, 4, 6, 7, 24, '2018-04-06 07:24:00', 6)]"
            ]
          },
          "metadata": {
            "tags": []
          },
          "execution_count": 109
        }
      ]
    },
    {
      "cell_type": "code",
      "metadata": {
        "id": "QHYGOkko9lcG",
        "colab": {
          "base_uri": "https://localhost:8080/",
          "height": 95
        },
        "outputId": "08a46b2f-cec7-4b13-cbd9-b687dea18222"
      },
      "source": [
        "#Q1: Indentify the most popular hour of the day for returning cars\n",
        "# The most popular hour of returning cars is when the cars are most available at the station\n",
        "# and the parking slots available are at a minimum due to the cars returned.\n",
        "%%sql\n",
        "SELECT timestamp FROM Clean_Autolib ORDER BY Total_cars DESC LIMIT 1"
      ],
      "execution_count": null,
      "outputs": [
        {
          "output_type": "stream",
          "text": [
            " * sqlite://\n",
            "Done.\n"
          ],
          "name": "stdout"
        },
        {
          "output_type": "execute_result",
          "data": {
            "text/html": [
              "<table>\n",
              "    <thead>\n",
              "        <tr>\n",
              "            <th>timestamp</th>\n",
              "        </tr>\n",
              "    </thead>\n",
              "    <tbody>\n",
              "        <tr>\n",
              "            <td>2018-04-01 17:35:00</td>\n",
              "        </tr>\n",
              "    </tbody>\n",
              "</table>"
            ],
            "text/plain": [
              "[('2018-04-01 17:35:00',)]"
            ]
          },
          "metadata": {
            "tags": []
          },
          "execution_count": 185
        }
      ]
    },
    {
      "cell_type": "code",
      "metadata": {
        "colab": {
          "base_uri": "https://localhost:8080/",
          "height": 95
        },
        "id": "1E0AJRfjFM7D",
        "outputId": "63769027-55a7-4ea1-85a6-a0ad9932b4f2"
      },
      "source": [
        "# The most popular hour of picking ALL cars is when the cars are least available at the station\n",
        "# and the parking slots available are at a maximum due to the cars returned.\n",
        "%%sql\n",
        "SELECT timestamp FROM Clean_Autolib ORDER BY Total_Cars ASC LIMIT 1"
      ],
      "execution_count": null,
      "outputs": [
        {
          "output_type": "stream",
          "text": [
            " * sqlite://\n",
            "Done.\n"
          ],
          "name": "stdout"
        },
        {
          "output_type": "execute_result",
          "data": {
            "text/html": [
              "<table>\n",
              "    <thead>\n",
              "        <tr>\n",
              "            <th>timestamp</th>\n",
              "        </tr>\n",
              "    </thead>\n",
              "    <tbody>\n",
              "        <tr>\n",
              "            <td>2018-04-08 11:43:00</td>\n",
              "        </tr>\n",
              "    </tbody>\n",
              "</table>"
            ],
            "text/plain": [
              "[('2018-04-08 11:43:00',)]"
            ]
          },
          "metadata": {
            "tags": []
          },
          "execution_count": 137
        }
      ]
    },
    {
      "cell_type": "code",
      "metadata": {
        "colab": {
          "base_uri": "https://localhost:8080/",
          "height": 95
        },
        "id": "X3r35mvsrW4O",
        "outputId": "44b1bd33-7790-4876-850f-0fbdc40a503f"
      },
      "source": [
        "#Viewing the maximum in the attributable columns\n",
        "%%sql\n",
        "SELECT MAX(slots),MAX(cars),MAX(\"utilib_counter\"),MAX(\"utilib_counter.1\"),MAX(\"charge_slots\") FROM Clean_Autolib"
      ],
      "execution_count": null,
      "outputs": [
        {
          "output_type": "stream",
          "text": [
            " * sqlite://\n",
            "Done.\n"
          ],
          "name": "stdout"
        },
        {
          "output_type": "execute_result",
          "data": {
            "text/html": [
              "<table>\n",
              "    <thead>\n",
              "        <tr>\n",
              "            <th>MAX(slots)</th>\n",
              "            <th>MAX(cars)</th>\n",
              "            <th>MAX(&quot;utilib_counter&quot;)</th>\n",
              "            <th>MAX(&quot;utilib_counter.1&quot;)</th>\n",
              "            <th>MAX(&quot;charge_slots&quot;)</th>\n",
              "        </tr>\n",
              "    </thead>\n",
              "    <tbody>\n",
              "        <tr>\n",
              "            <td>7</td>\n",
              "            <td>7</td>\n",
              "            <td>2</td>\n",
              "            <td>3</td>\n",
              "            <td>2</td>\n",
              "        </tr>\n",
              "    </tbody>\n",
              "</table>"
            ],
            "text/plain": [
              "[(7, 7, 2, 3, 2)]"
            ]
          },
          "metadata": {
            "tags": []
          },
          "execution_count": 80
        }
      ]
    },
    {
      "cell_type": "code",
      "metadata": {
        "id": "tDsrR3KgySRu",
        "colab": {
          "base_uri": "https://localhost:8080/",
          "height": 95
        },
        "outputId": "1a5fff95-e6c7-4158-dcb4-f1ed2e648ec4"
      },
      "source": [
        "#Viewing Minimum in the attributable columns\n",
        "%%sql\n",
        "SELECT MIN(slots),MIN(cars),MIN(\"utilib_counter\"),MIN(\"utilib_counter.1\"),MIN(\"charge_slots\") FROM Clean_Autolib"
      ],
      "execution_count": null,
      "outputs": [
        {
          "output_type": "stream",
          "text": [
            " * sqlite://\n",
            "Done.\n"
          ],
          "name": "stdout"
        },
        {
          "output_type": "execute_result",
          "data": {
            "text/html": [
              "<table>\n",
              "    <thead>\n",
              "        <tr>\n",
              "            <th>MIN(slots)</th>\n",
              "            <th>MIN(cars)</th>\n",
              "            <th>MIN(&quot;utilib_counter&quot;)</th>\n",
              "            <th>MIN(&quot;utilib_counter.1&quot;)</th>\n",
              "            <th>MIN(&quot;charge_slots&quot;)</th>\n",
              "        </tr>\n",
              "    </thead>\n",
              "    <tbody>\n",
              "        <tr>\n",
              "            <td>0</td>\n",
              "            <td>0</td>\n",
              "            <td>0</td>\n",
              "            <td>0</td>\n",
              "            <td>0</td>\n",
              "        </tr>\n",
              "    </tbody>\n",
              "</table>"
            ],
            "text/plain": [
              "[(0, 0, 0, 0, 0)]"
            ]
          },
          "metadata": {
            "tags": []
          },
          "execution_count": 81
        }
      ]
    },
    {
      "cell_type": "code",
      "metadata": {
        "id": "Bnh-HIUhzuaw"
      },
      "source": [
        "# What station is the most popular Overall\n",
        "# The station thats most popular is that which has minimum number of cars  available for hiring since the cars are already operational\n",
        "#Here the parking slots are at maximum(no cars at the station)\n",
        "# 99 rue Charles-de-Gaulle in Yerres is the most popular station overall \n",
        "#Where there are minimum cars available for hiring and maximum parking slots available.\n",
        "%%sql\n",
        "SELECT * FROM Clean_Autolib WHERE slots=7 ORDER BY Total_cars ASC LIMIT 10 "
      ],
      "execution_count": null,
      "outputs": []
    },
    {
      "cell_type": "code",
      "metadata": {
        "colab": {
          "base_uri": "https://localhost:8080/",
          "height": 183
        },
        "id": "fbna4C5s_XOt",
        "outputId": "1e917645-d5d1-400f-e4f9-3e2c411e541c"
      },
      "source": [
        "#What station is the most popular at the most popular pick up hour\n",
        "#The most popular pick up hour is when the Total available cars are at minimum since all cars are rented out.\n",
        "#Avenue de Suffren in Paris is the most popular station at the most popular pick up hour\n",
        "%%sql\n",
        "SELECT * FROM Clean_Autolib WHERE timestamp=(SELECT timestamp FROM Clean_Autolib ORDER BY Total_Cars ASC LIMIT 1);"
      ],
      "execution_count": null,
      "outputs": [
        {
          "output_type": "stream",
          "text": [
            " * sqlite://\n",
            "Done.\n"
          ],
          "name": "stdout"
        },
        {
          "output_type": "execute_result",
          "data": {
            "text/html": [
              "<table>\n",
              "    <thead>\n",
              "        <tr>\n",
              "            <th>address</th>\n",
              "            <th>cars</th>\n",
              "            <th>bluecar counter</th>\n",
              "            <th>utilib_counter</th>\n",
              "            <th>utilib_counter.1</th>\n",
              "            <th>charge_slots</th>\n",
              "            <th>charging status</th>\n",
              "            <th>city</th>\n",
              "            <th>kind</th>\n",
              "            <th>postal_code</th>\n",
              "            <th>rental_status</th>\n",
              "            <th>slots</th>\n",
              "            <th>station_type</th>\n",
              "            <th>status</th>\n",
              "            <th>subscription_status</th>\n",
              "            <th>year</th>\n",
              "            <th>month</th>\n",
              "            <th>day</th>\n",
              "            <th>hour</th>\n",
              "            <th>minute</th>\n",
              "            <th>timestamp</th>\n",
              "            <th>Total_cars</th>\n",
              "        </tr>\n",
              "    </thead>\n",
              "    <tbody>\n",
              "        <tr>\n",
              "            <td>2 Avenue de Suffren</td>\n",
              "            <td>0</td>\n",
              "            <td>0</td>\n",
              "            <td>0</td>\n",
              "            <td>0</td>\n",
              "            <td>0</td>\n",
              "            <td>nonexistent</td>\n",
              "            <td>Paris</td>\n",
              "            <td>STATION</td>\n",
              "            <td>75015</td>\n",
              "            <td>operational</td>\n",
              "            <td>2</td>\n",
              "            <td>station</td>\n",
              "            <td>ok</td>\n",
              "            <td>nonexistent</td>\n",
              "            <td>2018</td>\n",
              "            <td>4</td>\n",
              "            <td>8</td>\n",
              "            <td>11</td>\n",
              "            <td>43</td>\n",
              "            <td>2018-04-08 11:43:00</td>\n",
              "            <td>0</td>\n",
              "        </tr>\n",
              "    </tbody>\n",
              "</table>"
            ],
            "text/plain": [
              "[('2 Avenue de Suffren', 0, 0, 0, 0, 0, 'nonexistent', 'Paris', 'STATION', 75015, 'operational', 2, 'station', 'ok', 'nonexistent', 2018, 4, 8, 11, 43, '2018-04-08 11:43:00', 0)]"
            ]
          },
          "metadata": {
            "tags": []
          },
          "execution_count": 140
        }
      ]
    },
    {
      "cell_type": "code",
      "metadata": {
        "colab": {
          "base_uri": "https://localhost:8080/",
          "height": 95
        },
        "id": "QQcP8EOWG6zm",
        "outputId": "a3bf7d52-1e73-4f18-ae0f-1ede061278c6"
      },
      "source": [
        "#What postal code is the most popular for picking up blue cars\n",
        "#This is the station that has the least amount of blue cars available for pickup since all of them are rented out\n",
        "#Postal code is 75015 in paris\n",
        "%%sql\n",
        "SELECT \"postal_code\" FROM Clean_Autolib ORDER BY cars ASC LIMIT 1 \n"
      ],
      "execution_count": null,
      "outputs": [
        {
          "output_type": "stream",
          "text": [
            " * sqlite://\n",
            "Done.\n"
          ],
          "name": "stdout"
        },
        {
          "output_type": "execute_result",
          "data": {
            "text/html": [
              "<table>\n",
              "    <thead>\n",
              "        <tr>\n",
              "            <th>postal_code</th>\n",
              "        </tr>\n",
              "    </thead>\n",
              "    <tbody>\n",
              "        <tr>\n",
              "            <td>75015</td>\n",
              "        </tr>\n",
              "    </tbody>\n",
              "</table>"
            ],
            "text/plain": [
              "[(75015,)]"
            ]
          },
          "metadata": {
            "tags": []
          },
          "execution_count": 146
        }
      ]
    },
    {
      "cell_type": "code",
      "metadata": {
        "colab": {
          "base_uri": "https://localhost:8080/",
          "height": 183
        },
        "id": "X_r6pMa2EPWP",
        "outputId": "5471532c-1913-4fcb-8f18-9c2cb071d46d"
      },
      "source": [
        "#Does the most popular station belong to that Postal Code?\n",
        "#Yes\n",
        "%%sql\n",
        "SELECT * FROM Clean_Autolib ORDER BY Total_cars ASC LIMIT 1\n"
      ],
      "execution_count": null,
      "outputs": [
        {
          "output_type": "stream",
          "text": [
            " * sqlite://\n",
            "Done.\n"
          ],
          "name": "stdout"
        },
        {
          "output_type": "execute_result",
          "data": {
            "text/html": [
              "<table>\n",
              "    <thead>\n",
              "        <tr>\n",
              "            <th>address</th>\n",
              "            <th>cars</th>\n",
              "            <th>bluecar counter</th>\n",
              "            <th>utilib_counter</th>\n",
              "            <th>utilib_counter.1</th>\n",
              "            <th>charge_slots</th>\n",
              "            <th>charging status</th>\n",
              "            <th>city</th>\n",
              "            <th>kind</th>\n",
              "            <th>postal_code</th>\n",
              "            <th>rental_status</th>\n",
              "            <th>slots</th>\n",
              "            <th>station_type</th>\n",
              "            <th>status</th>\n",
              "            <th>subscription_status</th>\n",
              "            <th>year</th>\n",
              "            <th>month</th>\n",
              "            <th>day</th>\n",
              "            <th>hour</th>\n",
              "            <th>minute</th>\n",
              "            <th>timestamp</th>\n",
              "            <th>Total_cars</th>\n",
              "        </tr>\n",
              "    </thead>\n",
              "    <tbody>\n",
              "        <tr>\n",
              "            <td>2 Avenue de Suffren</td>\n",
              "            <td>0</td>\n",
              "            <td>0</td>\n",
              "            <td>0</td>\n",
              "            <td>0</td>\n",
              "            <td>0</td>\n",
              "            <td>nonexistent</td>\n",
              "            <td>Paris</td>\n",
              "            <td>STATION</td>\n",
              "            <td>75015</td>\n",
              "            <td>operational</td>\n",
              "            <td>2</td>\n",
              "            <td>station</td>\n",
              "            <td>ok</td>\n",
              "            <td>nonexistent</td>\n",
              "            <td>2018</td>\n",
              "            <td>4</td>\n",
              "            <td>8</td>\n",
              "            <td>11</td>\n",
              "            <td>43</td>\n",
              "            <td>2018-04-08 11:43:00</td>\n",
              "            <td>0</td>\n",
              "        </tr>\n",
              "    </tbody>\n",
              "</table>"
            ],
            "text/plain": [
              "[('2 Avenue de Suffren', 0, 0, 0, 0, 0, 'nonexistent', 'Paris', 'STATION', 75015, 'operational', 2, 'station', 'ok', 'nonexistent', 2018, 4, 8, 11, 43, '2018-04-08 11:43:00', 0)]"
            ]
          },
          "metadata": {
            "tags": []
          },
          "execution_count": 171
        }
      ]
    },
    {
      "cell_type": "code",
      "metadata": {
        "colab": {
          "base_uri": "https://localhost:8080/",
          "height": 183
        },
        "id": "a2wlp9AIEl5o",
        "outputId": "c7f610d6-6406-42b4-ea9d-fa406f96c959"
      },
      "source": [
        "#Does the most popular station belong to that Postal Code at the most popular hour?\n",
        "#Yes\n",
        "%%sql\n",
        "SELECT * FROM Clean_Autolib WHERE timestamp=(SELECT timestamp FROM Clean_Autolib ORDER BY Total_Cars ASC LIMIT 1)"
      ],
      "execution_count": null,
      "outputs": [
        {
          "output_type": "stream",
          "text": [
            " * sqlite://\n",
            "Done.\n"
          ],
          "name": "stdout"
        },
        {
          "output_type": "execute_result",
          "data": {
            "text/html": [
              "<table>\n",
              "    <thead>\n",
              "        <tr>\n",
              "            <th>address</th>\n",
              "            <th>cars</th>\n",
              "            <th>bluecar counter</th>\n",
              "            <th>utilib_counter</th>\n",
              "            <th>utilib_counter.1</th>\n",
              "            <th>charge_slots</th>\n",
              "            <th>charging status</th>\n",
              "            <th>city</th>\n",
              "            <th>kind</th>\n",
              "            <th>postal_code</th>\n",
              "            <th>rental_status</th>\n",
              "            <th>slots</th>\n",
              "            <th>station_type</th>\n",
              "            <th>status</th>\n",
              "            <th>subscription_status</th>\n",
              "            <th>year</th>\n",
              "            <th>month</th>\n",
              "            <th>day</th>\n",
              "            <th>hour</th>\n",
              "            <th>minute</th>\n",
              "            <th>timestamp</th>\n",
              "            <th>Total_cars</th>\n",
              "        </tr>\n",
              "    </thead>\n",
              "    <tbody>\n",
              "        <tr>\n",
              "            <td>2 Avenue de Suffren</td>\n",
              "            <td>0</td>\n",
              "            <td>0</td>\n",
              "            <td>0</td>\n",
              "            <td>0</td>\n",
              "            <td>0</td>\n",
              "            <td>nonexistent</td>\n",
              "            <td>Paris</td>\n",
              "            <td>STATION</td>\n",
              "            <td>75015</td>\n",
              "            <td>operational</td>\n",
              "            <td>2</td>\n",
              "            <td>station</td>\n",
              "            <td>ok</td>\n",
              "            <td>nonexistent</td>\n",
              "            <td>2018</td>\n",
              "            <td>4</td>\n",
              "            <td>8</td>\n",
              "            <td>11</td>\n",
              "            <td>43</td>\n",
              "            <td>2018-04-08 11:43:00</td>\n",
              "            <td>0</td>\n",
              "        </tr>\n",
              "    </tbody>\n",
              "</table>"
            ],
            "text/plain": [
              "[('2 Avenue de Suffren', 0, 0, 0, 0, 0, 'nonexistent', 'Paris', 'STATION', 75015, 'operational', 2, 'station', 'ok', 'nonexistent', 2018, 4, 8, 11, 43, '2018-04-08 11:43:00', 0)]"
            ]
          },
          "metadata": {
            "tags": []
          },
          "execution_count": 138
        }
      ]
    },
    {
      "cell_type": "code",
      "metadata": {
        "colab": {
          "base_uri": "https://localhost:8080/",
          "height": 95
        },
        "id": "6UE4j90DHWdg",
        "outputId": "6768cce4-0669-4e3a-f4b2-e81bb2b35328"
      },
      "source": [
        "#Most Popular Utilib Pick up hour is when the utilib cars are least available meaning they have already been rented out..\n",
        "%%sql\n",
        "SELECT timestamp FROM Clean_Autolib ORDER BY \"utilib_counter\" ASC LIMIT 1"
      ],
      "execution_count": null,
      "outputs": [
        {
          "output_type": "stream",
          "text": [
            " * sqlite://\n",
            "Done.\n"
          ],
          "name": "stdout"
        },
        {
          "output_type": "execute_result",
          "data": {
            "text/html": [
              "<table>\n",
              "    <thead>\n",
              "        <tr>\n",
              "            <th>timestamp</th>\n",
              "        </tr>\n",
              "    </thead>\n",
              "    <tbody>\n",
              "        <tr>\n",
              "            <td>2018-04-08 11:43:00</td>\n",
              "        </tr>\n",
              "    </tbody>\n",
              "</table>"
            ],
            "text/plain": [
              "[('2018-04-08 11:43:00',)]"
            ]
          },
          "metadata": {
            "tags": []
          },
          "execution_count": 149
        }
      ]
    },
    {
      "cell_type": "code",
      "metadata": {
        "colab": {
          "base_uri": "https://localhost:8080/",
          "height": 95
        },
        "id": "nu5WQpZ3Hxm_",
        "outputId": "54a7449a-242e-43f9-8f23-880298b01e2f"
      },
      "source": [
        "#Most Popular Utilib 1.4 pick up hour is the time when they are least available.\n",
        "%%sql\n",
        "SELECT timestamp FROM Clean_Autolib ORDER BY \"utilib_counter.1\" ASC LIMIT 1\n"
      ],
      "execution_count": null,
      "outputs": [
        {
          "output_type": "stream",
          "text": [
            " * sqlite://\n",
            "Done.\n"
          ],
          "name": "stdout"
        },
        {
          "output_type": "execute_result",
          "data": {
            "text/html": [
              "<table>\n",
              "    <thead>\n",
              "        <tr>\n",
              "            <th>timestamp</th>\n",
              "        </tr>\n",
              "    </thead>\n",
              "    <tbody>\n",
              "        <tr>\n",
              "            <td>2018-04-08 11:43:00</td>\n",
              "        </tr>\n",
              "    </tbody>\n",
              "</table>"
            ],
            "text/plain": [
              "[('2018-04-08 11:43:00',)]"
            ]
          },
          "metadata": {
            "tags": []
          },
          "execution_count": 150
        }
      ]
    },
    {
      "cell_type": "code",
      "metadata": {
        "colab": {
          "base_uri": "https://localhost:8080/",
          "height": 95
        },
        "id": "uCMO4Ph6IBOu",
        "outputId": "a7637155-1e9f-47c3-c2bc-4c59dd249a3d"
      },
      "source": [
        "#Most Popular return hour is when the Utilib 1.4 cars are most available\n",
        "%%sql\n",
        "SELECT timestamp FROM Clean_Autolib ORDER BY \"utilib_counter\" DESC LIMIT 1"
      ],
      "execution_count": null,
      "outputs": [
        {
          "output_type": "stream",
          "text": [
            " * sqlite://\n",
            "Done.\n"
          ],
          "name": "stdout"
        },
        {
          "output_type": "execute_result",
          "data": {
            "text/html": [
              "<table>\n",
              "    <thead>\n",
              "        <tr>\n",
              "            <th>timestamp</th>\n",
              "        </tr>\n",
              "    </thead>\n",
              "    <tbody>\n",
              "        <tr>\n",
              "            <td>2018-04-04 02:59:00</td>\n",
              "        </tr>\n",
              "    </tbody>\n",
              "</table>"
            ],
            "text/plain": [
              "[('2018-04-04 02:59:00',)]"
            ]
          },
          "metadata": {
            "tags": []
          },
          "execution_count": 154
        }
      ]
    },
    {
      "cell_type": "code",
      "metadata": {
        "colab": {
          "base_uri": "https://localhost:8080/",
          "height": 95
        },
        "id": "mpK95E6tJCWp",
        "outputId": "6f65b1b7-124f-41ed-b2e4-b385eee69778"
      },
      "source": [
        "#Most Popular return hour is when the Utilib 1.4 cars are most available \n",
        "%%sql\n",
        "SELECT timestamp FROM Clean_Autolib ORDER BY \"utilib_counter.1\" DESC LIMIT 1"
      ],
      "execution_count": null,
      "outputs": [
        {
          "output_type": "stream",
          "text": [
            " * sqlite://\n",
            "Done.\n"
          ],
          "name": "stdout"
        },
        {
          "output_type": "execute_result",
          "data": {
            "text/html": [
              "<table>\n",
              "    <thead>\n",
              "        <tr>\n",
              "            <th>timestamp</th>\n",
              "        </tr>\n",
              "    </thead>\n",
              "    <tbody>\n",
              "        <tr>\n",
              "            <td>2018-04-06 13:55:00</td>\n",
              "        </tr>\n",
              "    </tbody>\n",
              "</table>"
            ],
            "text/plain": [
              "[('2018-04-06 13:55:00',)]"
            ]
          },
          "metadata": {
            "tags": []
          },
          "execution_count": 173
        }
      ]
    },
    {
      "cell_type": "code",
      "metadata": {
        "colab": {
          "base_uri": "https://localhost:8080/",
          "height": 95
        },
        "id": "z70pV6L-WWrB",
        "outputId": "ba7e11a4-8c95-4844-dadd-b23000bff46d"
      },
      "source": [
        "#The most popular station is that which has minimum available cars for renting \n",
        "%%sql\n",
        "SELECT address,\"utilib_counter\" FROM Clean_Autolib ORDER BY \"utilib_counter\" ASC LIMIT 1"
      ],
      "execution_count": null,
      "outputs": [
        {
          "output_type": "stream",
          "text": [
            " * sqlite://\n",
            "Done.\n"
          ],
          "name": "stdout"
        },
        {
          "output_type": "execute_result",
          "data": {
            "text/html": [
              "<table>\n",
              "    <thead>\n",
              "        <tr>\n",
              "            <th>address</th>\n",
              "            <th>utilib_counter</th>\n",
              "        </tr>\n",
              "    </thead>\n",
              "    <tbody>\n",
              "        <tr>\n",
              "            <td>2 Avenue de Suffren</td>\n",
              "            <td>0</td>\n",
              "        </tr>\n",
              "    </tbody>\n",
              "</table>"
            ],
            "text/plain": [
              "[('2 Avenue de Suffren', 0)]"
            ]
          },
          "metadata": {
            "tags": []
          },
          "execution_count": 176
        }
      ]
    },
    {
      "cell_type": "code",
      "metadata": {
        "colab": {
          "base_uri": "https://localhost:8080/",
          "height": 166
        },
        "id": "vH8vdTfmkKqr",
        "outputId": "4f45e11c-ff02-4ba4-c412-1100f35c37e9"
      },
      "source": [
        "%%sql\n",
        "SELECT * FROM Clean_Autolib ORDER BY \"charge_slots\" DESC LIMIT 1"
      ],
      "execution_count": null,
      "outputs": [
        {
          "output_type": "stream",
          "text": [
            " * sqlite://\n",
            "Done.\n"
          ],
          "name": "stdout"
        },
        {
          "output_type": "execute_result",
          "data": {
            "text/html": [
              "<table>\n",
              "    <thead>\n",
              "        <tr>\n",
              "            <th>address</th>\n",
              "            <th>cars</th>\n",
              "            <th>bluecar counter</th>\n",
              "            <th>utilib_counter</th>\n",
              "            <th>utilib_counter.1</th>\n",
              "            <th>charge_slots</th>\n",
              "            <th>charging status</th>\n",
              "            <th>city</th>\n",
              "            <th>kind</th>\n",
              "            <th>postal_code</th>\n",
              "            <th>rental_status</th>\n",
              "            <th>slots</th>\n",
              "            <th>station_type</th>\n",
              "            <th>status</th>\n",
              "            <th>subscription_status</th>\n",
              "            <th>year</th>\n",
              "            <th>month</th>\n",
              "            <th>day</th>\n",
              "            <th>hour</th>\n",
              "            <th>minute</th>\n",
              "            <th>timestamp</th>\n",
              "            <th>Total_cars</th>\n",
              "        </tr>\n",
              "    </thead>\n",
              "    <tbody>\n",
              "        <tr>\n",
              "            <td>14 rue Censier</td>\n",
              "            <td>0</td>\n",
              "            <td>0</td>\n",
              "            <td>0</td>\n",
              "            <td>0</td>\n",
              "            <td>2</td>\n",
              "            <td>operational</td>\n",
              "            <td>Paris</td>\n",
              "            <td>STATION</td>\n",
              "            <td>75005</td>\n",
              "            <td>operational</td>\n",
              "            <td>6</td>\n",
              "            <td>station</td>\n",
              "            <td>ok</td>\n",
              "            <td>nonexistent</td>\n",
              "            <td>2018</td>\n",
              "            <td>4</td>\n",
              "            <td>1</td>\n",
              "            <td>4</td>\n",
              "            <td>39</td>\n",
              "            <td>2018-04-01 04:39:00</td>\n",
              "            <td>0</td>\n",
              "        </tr>\n",
              "    </tbody>\n",
              "</table>"
            ],
            "text/plain": [
              "[('14 rue Censier', 0, 0, 0, 0, 2, 'operational', 'Paris', 'STATION', 75005, 'operational', 6, 'station', 'ok', 'nonexistent', 2018, 4, 1, 4, 39, '2018-04-01 04:39:00', 0)]"
            ]
          },
          "metadata": {
            "tags": []
          },
          "execution_count": 180
        }
      ]
    },
    {
      "cell_type": "markdown",
      "metadata": {
        "id": "oHIgxIYIOqON"
      },
      "source": [
        "Conclusions from this data set.\n",
        "* The most Popular hour of picking up blue cars in Paris in April 2018 was:11:43:00\n",
        "* The most popular return time for ALL cars was:17:35:00\n",
        "* The most Popular overal station :99 rue Charles-de-Gaulle in Yerres is the most popular station overall\n",
        "* Avenue de Suffren in Paris is the most popular station at the most popular pick up hour\n",
        "* Postal code is 75015 in paris is the most popular for picking up blue cars.\n",
        "* Does the most popular station belong to that Postal Code? Yes\n",
        "* Does the most popular station belong to that Postal Code at the most popular hour? Yes\n",
        "* Most Popular Utilib Pick up hour is :11:43:00\n",
        "* Most Popular Utilib 1.4 Pick up hour is:11:43:00\n",
        "* Most Popular utilib return hour is:02:59:00\n",
        "* The most popular return hour is:13:55:00\n",
        "* The most popular station utilib cars: 2 Avenue de Suffren\t0\n",
        "\n",
        "\n",
        "\n"
      ]
    },
    {
      "cell_type": "markdown",
      "metadata": {
        "id": "DiuDJXM-Ws8C"
      },
      "source": [
        ""
      ]
    }
  ]
}