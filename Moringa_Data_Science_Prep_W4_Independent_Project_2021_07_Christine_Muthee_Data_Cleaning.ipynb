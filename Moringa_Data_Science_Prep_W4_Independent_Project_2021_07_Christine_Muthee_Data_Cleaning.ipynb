{
  "nbformat": 4,
  "nbformat_minor": 0,
  "metadata": {
    "colab": {
      "name": "Moringa_Data_Science_Prep_W4_Independent_Project_2021_07_Christine_Muthee_Data Cleaning.ipynb",
      "provenance": [],
      "collapsed_sections": [],
      "authorship_tag": "ABX9TyMoqJ4HRKKN60cvz31Iyk1g",
      "include_colab_link": true
    },
    "kernelspec": {
      "name": "python3",
      "display_name": "Python 3"
    },
    "language_info": {
      "name": "python"
    }
  },
  "cells": [
    {
      "cell_type": "markdown",
      "metadata": {
        "id": "view-in-github",
        "colab_type": "text"
      },
      "source": [
        "<a href=\"https://colab.research.google.com/github/CHRISTINEMUTHEE/Week-4-IP/blob/main/Moringa_Data_Science_Prep_W4_Independent_Project_2021_07_Christine_Muthee_Data_Cleaning.ipynb\" target=\"_parent\"><img src=\"https://colab.research.google.com/assets/colab-badge.svg\" alt=\"Open In Colab\"/></a>"
      ]
    },
    {
      "cell_type": "markdown",
      "metadata": {
        "id": "I94tvrVw8VrG"
      },
      "source": [
        "ELECTRIC CAR USAGE DATA ANALYSIS.\n"
      ]
    },
    {
      "cell_type": "markdown",
      "metadata": {
        "id": "pGxe1LxC8XnI"
      },
      "source": [
        "**PROBLEM STATEMENT**\n",
        "\n",
        "1.Transport services are faced with problems ranging from insufficient resources to march up the demand for transportation services,congestion of people and parking in cities and car ownership costs just to mention a few.\n",
        "\n",
        "This analysis is fundermental in understanding the car service usage over time.\n",
        "\n",
        "Knowledge of this will have the following impact:\n",
        "\n",
        "*   We will understand the car pick up and returning times to enable us organize and reduce traffic in car demand while allocating sufficient resources to contribute to the company's market penetration.\n",
        "*   We will see popular stations with the aim of assessing locations to facilitate resources while observing any variation in data behavior if a different car type is used. \n",
        "\n"
      ]
    },
    {
      "cell_type": "markdown",
      "metadata": {
        "id": "hHTXq6Wph-A1"
      },
      "source": [
        "1.0 Importing our Libraries"
      ]
    },
    {
      "cell_type": "code",
      "metadata": {
        "id": "z3l6taOshY85"
      },
      "source": [
        "# Importing the libraries we will need \n",
        "\n",
        "# Importing the pandas library\n",
        "# \n",
        "import pandas as pd\n",
        "\n",
        "# Importing the numpy library\n",
        "#\n",
        "import numpy as np"
      ],
      "execution_count": null,
      "outputs": []
    },
    {
      "cell_type": "markdown",
      "metadata": {
        "id": "i105Z4v2h8PQ"
      },
      "source": [
        "2.0 Reading the Dataset from our CSV file\n"
      ]
    },
    {
      "cell_type": "code",
      "metadata": {
        "id": "58wLJzt0iUqw"
      },
      "source": [
        "#Our Data set contains the csv file for the car usage over a period of 9 days.\n",
        "# The link for this data set is as follows\n",
        "# URL ='http://bit.ly/autolib_dataset'\n"
      ],
      "execution_count": null,
      "outputs": []
    },
    {
      "cell_type": "code",
      "metadata": {
        "id": "-GIYil3tzRDf"
      },
      "source": [
        "# URL ='http://bit.ly/autolib_dataset'\n",
        "# E_car_df=pd.read_csv(URL)\n",
        "# E_car_df.head() "
      ],
      "execution_count": null,
      "outputs": []
    },
    {
      "cell_type": "markdown",
      "metadata": {
        "id": "Q0RXHIyymmg3"
      },
      "source": [
        "3.0 Loading and Previewing our dataset."
      ]
    },
    {
      "cell_type": "code",
      "metadata": {
        "id": "IDgr--t_kQUc"
      },
      "source": [
        "#Defining a function to load our dataset and previewing the first 10 rows\n",
        "def Our_dataframe(data):\n",
        "  E_car_df=pd.read_csv(data)\n",
        "  return E_car_df.head(10)\n",
        "Our_dataframe('http://bit.ly/autolib_dataset')"
      ],
      "execution_count": null,
      "outputs": []
    },
    {
      "cell_type": "markdown",
      "metadata": {
        "id": "BInMuvCgmynv"
      },
      "source": [
        "4.0 Accessing Information about our dataset.\n",
        " * We might need to convert columns to the respective datatypes to enable aggregation and referencing in operation.\n"
      ]
    },
    {
      "cell_type": "code",
      "metadata": {
        "id": "WxuFpRtE-vEJ"
      },
      "source": [
        "E_car_df.info()"
      ],
      "execution_count": null,
      "outputs": []
    },
    {
      "cell_type": "markdown",
      "metadata": {
        "id": "W8qvWTW3nrQp"
      },
      "source": [
        "5.0 Cleaning Our Dataset.\n",
        "Every necessary data cleaning detail will be put to consideration with factors ranging from.\n",
        "*   Validity\n",
        "*   Accuracy\n",
        "*   Completeness\n",
        "*   Consistency\n",
        "*   Uniformity\n",
        "*   Outliers \n",
        "\n",
        "\n",
        "\n",
        "\n",
        "\n",
        "\n"
      ]
    },
    {
      "cell_type": "markdown",
      "metadata": {
        "id": "fvcPGhkAov0f"
      },
      "source": [
        "5.1 Validity\n",
        "*   Here i will ensure that my findings truly represent the phenomenon i claim to measure.\n"
      ]
    },
    {
      "cell_type": "code",
      "metadata": {
        "id": "oexyT9Nn-9-2"
      },
      "source": [
        "E_car_df.info()"
      ],
      "execution_count": null,
      "outputs": []
    },
    {
      "cell_type": "code",
      "metadata": {
        "colab": {
          "base_uri": "https://localhost:8080/",
          "height": 445
        },
        "id": "l7ph-btZuWUM",
        "outputId": "9e15965e-cacc-40ed-ed71-09bc8006e8b5"
      },
      "source": [
        "# Procedure 1:Irrelevant Data Observation,'ID','Geo point','Public name'\n",
        "# Data Cleaning Action:Dropping unnesessary attributes eg. Displayed Comment,ID,Geo point and Public name\n",
        "# Explanation:The entries are not necessary for my data analysis objectives.\n",
        "New_df=E_car_df.drop(columns=['Displayed comment','ID','Geo point','Public name'],axis=1)\n",
        "New_df.head()\n"
      ],
      "execution_count": null,
      "outputs": [
        {
          "output_type": "execute_result",
          "data": {
            "text/html": [
              "<div>\n",
              "<style scoped>\n",
              "    .dataframe tbody tr th:only-of-type {\n",
              "        vertical-align: middle;\n",
              "    }\n",
              "\n",
              "    .dataframe tbody tr th {\n",
              "        vertical-align: top;\n",
              "    }\n",
              "\n",
              "    .dataframe thead th {\n",
              "        text-align: right;\n",
              "    }\n",
              "</style>\n",
              "<table border=\"1\" class=\"dataframe\">\n",
              "  <thead>\n",
              "    <tr style=\"text-align: right;\">\n",
              "      <th></th>\n",
              "      <th>Address</th>\n",
              "      <th>Cars</th>\n",
              "      <th>Bluecar counter</th>\n",
              "      <th>Utilib counter</th>\n",
              "      <th>Utilib 1.4 counter</th>\n",
              "      <th>Charge Slots</th>\n",
              "      <th>Charging Status</th>\n",
              "      <th>City</th>\n",
              "      <th>Kind</th>\n",
              "      <th>Postal code</th>\n",
              "      <th>Rental status</th>\n",
              "      <th>Scheduled at</th>\n",
              "      <th>Slots</th>\n",
              "      <th>Station type</th>\n",
              "      <th>Status</th>\n",
              "      <th>Subscription status</th>\n",
              "      <th>year</th>\n",
              "      <th>month</th>\n",
              "      <th>day</th>\n",
              "      <th>hour</th>\n",
              "      <th>minute</th>\n",
              "    </tr>\n",
              "  </thead>\n",
              "  <tbody>\n",
              "    <tr>\n",
              "      <th>0</th>\n",
              "      <td>2 Avenue de Suffren</td>\n",
              "      <td>0</td>\n",
              "      <td>0</td>\n",
              "      <td>0</td>\n",
              "      <td>0</td>\n",
              "      <td>0</td>\n",
              "      <td>nonexistent</td>\n",
              "      <td>Paris</td>\n",
              "      <td>STATION</td>\n",
              "      <td>75015</td>\n",
              "      <td>operational</td>\n",
              "      <td>NaN</td>\n",
              "      <td>2</td>\n",
              "      <td>station</td>\n",
              "      <td>ok</td>\n",
              "      <td>nonexistent</td>\n",
              "      <td>2018</td>\n",
              "      <td>4</td>\n",
              "      <td>8</td>\n",
              "      <td>11</td>\n",
              "      <td>43</td>\n",
              "    </tr>\n",
              "    <tr>\n",
              "      <th>1</th>\n",
              "      <td>145 Rue Raymond Losserand</td>\n",
              "      <td>6</td>\n",
              "      <td>6</td>\n",
              "      <td>0</td>\n",
              "      <td>0</td>\n",
              "      <td>0</td>\n",
              "      <td>operational</td>\n",
              "      <td>Paris</td>\n",
              "      <td>STATION</td>\n",
              "      <td>75014</td>\n",
              "      <td>operational</td>\n",
              "      <td>NaN</td>\n",
              "      <td>0</td>\n",
              "      <td>station</td>\n",
              "      <td>ok</td>\n",
              "      <td>nonexistent</td>\n",
              "      <td>2018</td>\n",
              "      <td>4</td>\n",
              "      <td>6</td>\n",
              "      <td>7</td>\n",
              "      <td>24</td>\n",
              "    </tr>\n",
              "    <tr>\n",
              "      <th>2</th>\n",
              "      <td>2 Avenue John Fitzgerald Kennedy</td>\n",
              "      <td>3</td>\n",
              "      <td>3</td>\n",
              "      <td>0</td>\n",
              "      <td>2</td>\n",
              "      <td>0</td>\n",
              "      <td>operational</td>\n",
              "      <td>Le Bourget</td>\n",
              "      <td>STATION</td>\n",
              "      <td>93350</td>\n",
              "      <td>operational</td>\n",
              "      <td>NaN</td>\n",
              "      <td>1</td>\n",
              "      <td>station</td>\n",
              "      <td>ok</td>\n",
              "      <td>nonexistent</td>\n",
              "      <td>2018</td>\n",
              "      <td>4</td>\n",
              "      <td>3</td>\n",
              "      <td>20</td>\n",
              "      <td>14</td>\n",
              "    </tr>\n",
              "    <tr>\n",
              "      <th>3</th>\n",
              "      <td>51 Rue EugÃ¨ne OudinÃ©</td>\n",
              "      <td>3</td>\n",
              "      <td>3</td>\n",
              "      <td>1</td>\n",
              "      <td>0</td>\n",
              "      <td>1</td>\n",
              "      <td>operational</td>\n",
              "      <td>Paris</td>\n",
              "      <td>STATION</td>\n",
              "      <td>75013</td>\n",
              "      <td>operational</td>\n",
              "      <td>NaN</td>\n",
              "      <td>2</td>\n",
              "      <td>station</td>\n",
              "      <td>ok</td>\n",
              "      <td>nonexistent</td>\n",
              "      <td>2018</td>\n",
              "      <td>4</td>\n",
              "      <td>4</td>\n",
              "      <td>4</td>\n",
              "      <td>37</td>\n",
              "    </tr>\n",
              "    <tr>\n",
              "      <th>4</th>\n",
              "      <td>6 avenue de la Porte de Champerret</td>\n",
              "      <td>3</td>\n",
              "      <td>3</td>\n",
              "      <td>0</td>\n",
              "      <td>0</td>\n",
              "      <td>0</td>\n",
              "      <td>nonexistent</td>\n",
              "      <td>Paris</td>\n",
              "      <td>PARKING</td>\n",
              "      <td>75017</td>\n",
              "      <td>operational</td>\n",
              "      <td>NaN</td>\n",
              "      <td>3</td>\n",
              "      <td>station</td>\n",
              "      <td>ok</td>\n",
              "      <td>nonexistent</td>\n",
              "      <td>2018</td>\n",
              "      <td>4</td>\n",
              "      <td>8</td>\n",
              "      <td>17</td>\n",
              "      <td>23</td>\n",
              "    </tr>\n",
              "  </tbody>\n",
              "</table>\n",
              "</div>"
            ],
            "text/plain": [
              "                              Address  Cars  Bluecar counter  ...  day  hour  minute\n",
              "0                 2 Avenue de Suffren     0                0  ...    8    11      43\n",
              "1           145 Rue Raymond Losserand     6                6  ...    6     7      24\n",
              "2    2 Avenue John Fitzgerald Kennedy     3                3  ...    3    20      14\n",
              "3              51 Rue EugÃ¨ne OudinÃ©     3                3  ...    4     4      37\n",
              "4  6 avenue de la Porte de Champerret     3                3  ...    8    17      23\n",
              "\n",
              "[5 rows x 21 columns]"
            ]
          },
          "metadata": {
            "tags": []
          },
          "execution_count": 74
        }
      ]
    },
    {
      "cell_type": "code",
      "metadata": {
        "colab": {
          "base_uri": "https://localhost:8080/"
        },
        "id": "Ib-SlloMZ_nB",
        "outputId": "ad03005f-2ba8-408c-8389-033adfbd604f"
      },
      "source": [
        "New_df.shape"
      ],
      "execution_count": null,
      "outputs": [
        {
          "output_type": "execute_result",
          "data": {
            "text/plain": [
              "(5000, 21)"
            ]
          },
          "metadata": {
            "tags": []
          },
          "execution_count": 76
        }
      ]
    },
    {
      "cell_type": "code",
      "metadata": {
        "id": "F9CChKUo4UFo"
      },
      "source": [
        "# Procedure 2:Data Types restructuring\n",
        "# Data Cleaning Action:Converting the Year,Month,day and Month to string to enable concatenation in a new column and there after converting to time stamp for analysis\n",
        "# Explanation:To enable concatenation in a new column and there after converting to time stamp for analysis\n",
        "New_df[['year','month','day','hour','minute']]=New_df[['year','month','day','hour','minute']].astype(str)\n",
        "New_df['Timestamp']=New_df['year']+'-'+New_df['month']+'-'+New_df['day']+' '+New_df['hour']+':'+New_df['minute']\n",
        "New_df['Timestamp']=pd.to_datetime(New_df['Timestamp'])\n",
        "New_df.head()"
      ],
      "execution_count": null,
      "outputs": []
    },
    {
      "cell_type": "code",
      "metadata": {
        "id": "V_8YQpIIHEAP"
      },
      "source": [
        "# Procedure 3:Renaming columns\n",
        "# Data Cleaning Action:Gave lower case to all columns for readability\n",
        "# Explanation:To enable reading and referencing column names while calling them.\n",
        "New_df.columns=map(str.lower,New_df.columns)\n",
        "New_df.head()\n"
      ],
      "execution_count": null,
      "outputs": []
    },
    {
      "cell_type": "markdown",
      "metadata": {
        "id": "8lk6C-PzLRW4"
      },
      "source": [
        "5.2 Accuracy"
      ]
    },
    {
      "cell_type": "markdown",
      "metadata": {
        "id": "npf6_C66Ltzh"
      },
      "source": [
        "*   This is the measure of the correctness of my data.\n",
        "\n"
      ]
    },
    {
      "cell_type": "code",
      "metadata": {
        "id": "Zsqwt2014qqR"
      },
      "source": [
        "#Reviewing information about our dataset.\n",
        "New_df.info()"
      ],
      "execution_count": null,
      "outputs": []
    },
    {
      "cell_type": "code",
      "metadata": {
        "id": "8qu4HvBa3U_t"
      },
      "source": [
        "#Creating a new column with the sum of blue car,utilib car and utilib 1.4 car.\n",
        "New_df[New_df.columns[2:5]]"
      ],
      "execution_count": null,
      "outputs": []
    },
    {
      "cell_type": "code",
      "metadata": {
        "id": "c9RkNk8I3FBd"
      },
      "source": [
        "#Inserting a new column with the total sum of cars available in respective addreses.\n",
        "New_df['Total_cars']=(New_df[New_df.columns[2:5]]).sum(axis=1)\n",
        "New_df.head()"
      ],
      "execution_count": null,
      "outputs": []
    },
    {
      "cell_type": "code",
      "metadata": {
        "id": "5Wtc2rzSdShL"
      },
      "source": [
        "# Confirming that charge slots can only be greater than one if the charging status is operational.\n",
        "Charge_df=New_df[New_df.columns[5:7]]\n",
        "Charge_df"
      ],
      "execution_count": null,
      "outputs": []
    },
    {
      "cell_type": "markdown",
      "metadata": {
        "id": "yZNdfLd8unO5"
      },
      "source": [
        "5.3 Completeness\n",
        "* This checks for null values in the dataset \n",
        "\n",
        "\n"
      ]
    },
    {
      "cell_type": "code",
      "metadata": {
        "colab": {
          "base_uri": "https://localhost:8080/"
        },
        "id": "2qBN40sHwUVh",
        "outputId": "4051f665-c6ac-49c9-9bb2-aab9e075142c"
      },
      "source": [
        "New_df.isnull().any()"
      ],
      "execution_count": null,
      "outputs": [
        {
          "output_type": "execute_result",
          "data": {
            "text/plain": [
              "address                False\n",
              "cars                   False\n",
              "bluecar counter        False\n",
              "utilib counter         False\n",
              "utilib 1.4 counter     False\n",
              "charge slots           False\n",
              "charging status        False\n",
              "city                   False\n",
              "kind                   False\n",
              "postal code            False\n",
              "rental status          False\n",
              "scheduled at            True\n",
              "slots                  False\n",
              "station type           False\n",
              "status                 False\n",
              "subscription status    False\n",
              "year                   False\n",
              "month                  False\n",
              "day                    False\n",
              "hour                   False\n",
              "minute                 False\n",
              "timestamp              False\n",
              "Total_cars             False\n",
              "dtype: bool"
            ]
          },
          "metadata": {
            "tags": []
          },
          "execution_count": 37
        }
      ]
    },
    {
      "cell_type": "code",
      "metadata": {
        "id": "QqtU9C-bkPr-"
      },
      "source": [
        "# Checking for null values in the Dataset\n",
        "# Scheduled at contains almost all null values thus not important to my analysis. \n",
        "# Dropping the column\n",
        "Clean_df=New_df.drop(New_df.columns[11],axis=1)\n",
        "Clean_df\n"
      ],
      "execution_count": null,
      "outputs": []
    },
    {
      "cell_type": "code",
      "metadata": {
        "id": "T-1Llli502H7"
      },
      "source": [
        "#Confirming operation.\n",
        "Clean_df.isnull().any()"
      ],
      "execution_count": null,
      "outputs": []
    },
    {
      "cell_type": "markdown",
      "metadata": {
        "id": "Juk-vmwG4PrJ"
      },
      "source": [
        "5.4 Consistency\n",
        "\n",
        "\n",
        "*   Here im ensuring that my data is the same for all instances of this application/Context in time.\n",
        "*   Getting rid of duplicates and any inconsistencies\n",
        "\n"
      ]
    },
    {
      "cell_type": "code",
      "metadata": {
        "id": "JgpjT2iW4K7f"
      },
      "source": [
        "#Observing which observations are duplicates\n",
        "Clean_df.duplicated\n",
        "#Dropping Duplicates in my data\n",
        "Clean_df.drop_duplicates()"
      ],
      "execution_count": null,
      "outputs": []
    },
    {
      "cell_type": "markdown",
      "metadata": {
        "id": "kjRALPa26kjs"
      },
      "source": [
        "5.5 Uniformity"
      ]
    },
    {
      "cell_type": "code",
      "metadata": {
        "colab": {
          "base_uri": "https://localhost:8080/"
        },
        "id": "X2A-GeK06LdZ",
        "outputId": "4c082c30-14cd-4305-eef8-4f01217454f0"
      },
      "source": [
        "# Had Converted column types to lower in Operation 5.1 ,Proceedure 3\n",
        "# I am confifident that my data is clean and i have all i need for analysis. \n",
        "Clean_df.shape"
      ],
      "execution_count": null,
      "outputs": [
        {
          "output_type": "execute_result",
          "data": {
            "text/plain": [
              "(5000, 22)"
            ]
          },
          "metadata": {
            "tags": []
          },
          "execution_count": 41
        }
      ]
    },
    {
      "cell_type": "code",
      "metadata": {
        "id": "kR6JxJSreqvL"
      },
      "source": [
        "Clean_df.info()"
      ],
      "execution_count": null,
      "outputs": []
    },
    {
      "cell_type": "code",
      "metadata": {
        "id": "aFhuuWpleXHX"
      },
      "source": [
        "#Converting column naming to a uniform format\n",
        "Clean_df= Clean_df.rename(columns={'utilib counter':'utilib_counter',\n",
        "                             'utilib 1.4 counter':'utilib_counter',\n",
        "                             'charge slots':'charge_slots',\n",
        "                             'charging status ':'charging_status ',\n",
        "                             'postal code':'postal_code',\n",
        "                             'rental status':'rental_status',\n",
        "                             'station type':'station_type',\n",
        "                             'subscription status':'subscription_status'})\n",
        "Clean_df"
      ],
      "execution_count": null,
      "outputs": []
    },
    {
      "cell_type": "markdown",
      "metadata": {
        "id": "ddef63si__jF"
      },
      "source": [
        "5.6 Outliers\n",
        "\n",
        "*   I will check for an observation that lies at an abnormal distance from other values in the following dataset.\n",
        "\n"
      ]
    },
    {
      "cell_type": "code",
      "metadata": {
        "colab": {
          "base_uri": "https://localhost:8080/",
          "height": 372
        },
        "id": "dqJUcUKoATR_",
        "outputId": "d4c2ee56-40b9-4873-a39c-68b7fb0273c7"
      },
      "source": [
        "# Boxplotting to check for any ouliers in numerical columns\n",
        "import matplotlib.pyplot as plt \n",
        "% matplotlib inline \n",
        "Clean_df.boxplot(column='cars',by='hour',grid=False)\n",
        "#Plotting a box plot based on time stamps prooved to be difficult due to the complexity of the dataset."
      ],
      "execution_count": null,
      "outputs": [
        {
          "output_type": "stream",
          "text": [
            "/usr/local/lib/python3.7/dist-packages/numpy/core/_asarray.py:83: VisibleDeprecationWarning: Creating an ndarray from ragged nested sequences (which is a list-or-tuple of lists-or-tuples-or ndarrays with different lengths or shapes) is deprecated. If you meant to do this, you must specify 'dtype=object' when creating the ndarray\n",
            "  return array(a, dtype, copy=False, order=order)\n"
          ],
          "name": "stderr"
        },
        {
          "output_type": "execute_result",
          "data": {
            "text/plain": [
              "<matplotlib.axes._subplots.AxesSubplot at 0x7fb581957250>"
            ]
          },
          "metadata": {
            "tags": []
          },
          "execution_count": 48
        },
        {
          "output_type": "display_data",
          "data": {
            "image/png": "[encoded data removed]",
            "text/plain": [
              "<Figure size 432x288 with 1 Axes>"
            ]
          },
          "metadata": {
            "tags": [],
            "needs_background": "light"
          }
        }
      ]
    },
    {
      "cell_type": "code",
      "metadata": {
        "colab": {
          "base_uri": "https://localhost:8080/",
          "height": 216
        },
        "id": "TCaRajmNIOPw",
        "outputId": "4d819a1c-817b-4cb9-c1a5-28c87b3d87d9"
      },
      "source": [
        "Clean_df.head(2)"
      ],
      "execution_count": null,
      "outputs": [
        {
          "output_type": "execute_result",
          "data": {
            "text/html": [
              "<div>\n",
              "<style scoped>\n",
              "    .dataframe tbody tr th:only-of-type {\n",
              "        vertical-align: middle;\n",
              "    }\n",
              "\n",
              "    .dataframe tbody tr th {\n",
              "        vertical-align: top;\n",
              "    }\n",
              "\n",
              "    .dataframe thead th {\n",
              "        text-align: right;\n",
              "    }\n",
              "</style>\n",
              "<table border=\"1\" class=\"dataframe\">\n",
              "  <thead>\n",
              "    <tr style=\"text-align: right;\">\n",
              "      <th></th>\n",
              "      <th>address</th>\n",
              "      <th>cars</th>\n",
              "      <th>bluecar counter</th>\n",
              "      <th>utilib_counter</th>\n",
              "      <th>utilib_counter</th>\n",
              "      <th>charge_slots</th>\n",
              "      <th>charging status</th>\n",
              "      <th>city</th>\n",
              "      <th>kind</th>\n",
              "      <th>postal_code</th>\n",
              "      <th>rental_status</th>\n",
              "      <th>slots</th>\n",
              "      <th>station_type</th>\n",
              "      <th>status</th>\n",
              "      <th>subscription_status</th>\n",
              "      <th>year</th>\n",
              "      <th>month</th>\n",
              "      <th>day</th>\n",
              "      <th>hour</th>\n",
              "      <th>minute</th>\n",
              "      <th>timestamp</th>\n",
              "      <th>Total_cars</th>\n",
              "    </tr>\n",
              "  </thead>\n",
              "  <tbody>\n",
              "    <tr>\n",
              "      <th>0</th>\n",
              "      <td>2 Avenue de Suffren</td>\n",
              "      <td>0</td>\n",
              "      <td>0</td>\n",
              "      <td>0</td>\n",
              "      <td>0</td>\n",
              "      <td>0</td>\n",
              "      <td>nonexistent</td>\n",
              "      <td>Paris</td>\n",
              "      <td>STATION</td>\n",
              "      <td>75015</td>\n",
              "      <td>operational</td>\n",
              "      <td>2</td>\n",
              "      <td>station</td>\n",
              "      <td>ok</td>\n",
              "      <td>nonexistent</td>\n",
              "      <td>2018</td>\n",
              "      <td>4</td>\n",
              "      <td>8</td>\n",
              "      <td>11</td>\n",
              "      <td>43</td>\n",
              "      <td>2018-04-08 11:43:00</td>\n",
              "      <td>0</td>\n",
              "    </tr>\n",
              "    <tr>\n",
              "      <th>1</th>\n",
              "      <td>145 Rue Raymond Losserand</td>\n",
              "      <td>6</td>\n",
              "      <td>6</td>\n",
              "      <td>0</td>\n",
              "      <td>0</td>\n",
              "      <td>0</td>\n",
              "      <td>operational</td>\n",
              "      <td>Paris</td>\n",
              "      <td>STATION</td>\n",
              "      <td>75014</td>\n",
              "      <td>operational</td>\n",
              "      <td>0</td>\n",
              "      <td>station</td>\n",
              "      <td>ok</td>\n",
              "      <td>nonexistent</td>\n",
              "      <td>2018</td>\n",
              "      <td>4</td>\n",
              "      <td>6</td>\n",
              "      <td>7</td>\n",
              "      <td>24</td>\n",
              "      <td>2018-04-06 07:24:00</td>\n",
              "      <td>6</td>\n",
              "    </tr>\n",
              "  </tbody>\n",
              "</table>\n",
              "</div>"
            ],
            "text/plain": [
              "                     address  cars  ...           timestamp  Total_cars\n",
              "0        2 Avenue de Suffren     0  ... 2018-04-08 11:43:00           0\n",
              "1  145 Rue Raymond Losserand     6  ... 2018-04-06 07:24:00           6\n",
              "\n",
              "[2 rows x 22 columns]"
            ]
          },
          "metadata": {
            "tags": []
          },
          "execution_count": 49
        }
      ]
    },
    {
      "cell_type": "code",
      "metadata": {
        "id": "URBCryUAB6jM"
      },
      "source": [
        "#Identifying outliers and eliminating them.\n",
        "# Using the Inter Quartile Rule where  any number below 1.5 times the 1st Quartile and any number 1.5 times above the 3rd quartile is considered a suspected outlier.\n",
        "# The range is defined as follows:Q1-1.5*IQR  and Q3+1.5*IQR\n",
        "def Outliers(Our_dataframe):\n",
        "  Q1=Our_dataframe.quantile(0.25)\n",
        "  Q3=Our_dataframe.quantile(0.75)\n",
        "  IQR=Q3-Q1\n",
        "  #This is the data frame without the outliers that fall outside the range\n",
        "  Clean_df_Outliers=Our_dataframe[~((Our_dataframe<Q1-1.5*IQR)|(Our_dataframe>Q3+1.5*IQR)).any(axis=1)]\n",
        "  print(Clean_df_Outliers.shape)\n",
        "  print(Clean_df.shape)\n",
        "  print(Our_dataframe.shape)\n",
        "  print(Clean_df_Outliers)\n",
        "  #Checking for outliers\n",
        "Outliers(Clean_df.select_dtypes(int))\n",
        "# There are outliers detected in the agregatable data types thuough would be considered as minimum since postal code is constant and has random digits.\n",
        "# Othervalues on the other hand from the description woulnt be considered as outliers because they range between approximately 0-7.\n",
        "#Number of outliers \n",
        "\n"
      ],
      "execution_count": null,
      "outputs": []
    },
    {
      "cell_type": "markdown",
      "metadata": {
        "id": "949UW6FROSEv"
      },
      "source": [
        "Exporting our dataframe:\n"
      ]
    },
    {
      "cell_type": "code",
      "metadata": {
        "id": "v9pkqMsnJmFt"
      },
      "source": [
        "Clean_df.to_csv(r'C:\\Users\\LENOVO\\Downloads\\'Clean_Autolib.csv', index = False, header=True)\n",
        "Clean_df"
      ],
      "execution_count": null,
      "outputs": []
    },
    {
      "cell_type": "markdown",
      "metadata": {
        "id": "FrRauq61Qjef"
      },
      "source": [
        "DATA ANALYSIS."
      ]
    },
    {
      "cell_type": "markdown",
      "metadata": {
        "id": "W5auzrsLQmPs"
      },
      "source": [
        "I will answer the questions stated in my objectives.\n"
      ]
    },
    {
      "cell_type": "code",
      "metadata": {
        "id": "EkjBWRd0SfhF"
      },
      "source": [
        "Clean_df.head(6)"
      ],
      "execution_count": null,
      "outputs": []
    }
  ]
}